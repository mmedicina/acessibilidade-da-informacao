{
 "cells": [
  {
   "cell_type": "code",
   "execution_count": 20,
   "metadata": {},
   "outputs": [],
   "source": [
    "import numpy as np\n",
    "import pandas as pd\n",
    "import seaborn as sns\n",
    "import matplotlib.pyplot as plt\n",
    "import glob\n",
    "import os\n"
   ]
  },
  {
   "cell_type": "code",
   "execution_count": 32,
   "metadata": {},
   "outputs": [],
   "source": [
    "base_path = '/home/guilhermer/Eldorado/NLP/acessibilidade-da-informacao/data/raw/'"
   ]
  },
  {
   "cell_type": "code",
   "execution_count": 22,
   "metadata": {},
   "outputs": [
    {
     "name": "stdout",
     "output_type": "stream",
     "text": [
      "['226_784.txt', '103_660.txt', '18_221.txt', '182_740.txt', '61_437.txt', '50_387.txt', '31_314.txt', '86_643.txt', '42_352.txt', '181_739.txt', '14_176.txt', '96_653.txt', '72_628.txt', '8_98.txt', '79_635.txt', '270_829.txt', '268_827.txt', '188_746.txt', '179_737.txt', '111_668.txt', '262_821.txt', '194_752.txt', '16_190.txt', '78_634.txt', '146_703.txt', '33_321.txt', '12_148.txt', '203_761.txt', '125_682.txt', '164_722.txt', '293_852.txt', '285_844.txt', '37_335.txt', '108_665.txt', '162_720.txt', '1_19.txt', '25_286.txt', '56_415.txt', '290_849.txt', '199_757.txt', '166_724.txt', '144_701.txt', '128_685.txt', '288_847.txt', '269_828.txt', '26_287.txt', '184_742.txt', '216_774.txt', '154_711.txt', '260_819.txt', '287_846.txt', '185_743.txt', '122_679.txt', '244_803.txt', '121_678.txt', '90_647.txt', '204_762.txt', '138_695.txt', '65_621.txt', '264_823.txt', '297_856.txt', '294_853.txt', '280_839.txt', '221_779.txt', '148_705.txt', '172_730.txt', '71_627.txt', '170_728.txt', '11_142.txt', '139_696.txt', '233_791.txt', '73_629.txt', '228_786.txt', '175_733.txt', '130_687.txt', '272_831.txt', '10_118.txt', '140_697.txt', '87_644.txt', '75_631.txt', '274_833.txt', '158_716.txt', '137_694.txt', '229_787.txt', '129_686.txt', '84_640.txt', '257_816.txt', '209_767.txt', '218_776.txt', '35_329.txt', '242_801.txt', '211_769.txt', '261_820.txt', '265_824.txt', '110_667.txt', '273_832.txt', '127_684.txt', '145_702.txt', '279_838.txt', '6_88.txt', '241_800.txt', '243_802.txt', '120_677.txt', '136_693.txt', '70_626.txt', '267_826.txt', '153_710.txt', '213_771.txt', '296_855.txt', '52_400.txt', '176_734.txt', '101_658.txt', '89_646.txt', '207_765.txt', '174_732.txt', '19_225.txt', '210_768.txt', '197_755.txt', '93_650.txt', '266_825.txt', '252_811.txt', '69_625.txt', '281_840.txt', '57_419.txt', '159_717.txt', '263_822.txt', '131_688.txt', '212_770.txt', '95_652.txt', '106_663.txt', '102_659.txt', '277_836.txt', '67_623.txt', '68_624.txt', '253_812.txt', '43_357.txt', '258_817.txt', '98_655.txt', '291_850.txt', '271_830.txt', '80_636.txt', '223_781.txt', '77_633.txt', '250_809.txt', '155_712.txt', '49_380.txt', '123_680.txt', '20_238.txt', '117_674.txt', '222_780.txt', '160_718.txt', '189_747.txt', '163_721.txt', '59_426.txt', '275_834.txt', '177_735.txt', '99_656.txt', '22_263.txt', '248_807.txt', '217_775.txt', '196_754.txt', '224_782.txt', '66_622.txt', '201_759.txt', '97_654.txt', '54_410.txt', '295_854.txt', '74_630.txt', '157_715.txt', '17_200.txt', '133_690.txt', '180_738.txt', '165_723.txt', '27_291.txt', '231_789.txt', '100_657.txt', '237_795.txt', '58_422.txt', '45_372.txt', '225_783.txt', '76_632.txt', '116_673.txt', '289_848.txt', '186_744.txt', '142_699.txt', '156_714.txt', '109_666.txt', '135_692.txt', '206_764.txt', '219_777.txt', '254_813.txt', '39_347.txt', '249_808.txt', '126_683.txt', '183_741.txt', '64_620.txt', '132_689.txt', '23_272.txt', '235_793.txt', '36_330.txt', '232_790.txt', '238_796.txt', '113_670.txt', '13_175.txt', '240_799.txt', '247_806.txt', '85_642.txt', '259_818.txt', '81_637.txt', '152_709.txt', '119_676.txt', '9_108.txt', '24_279.txt', '230_788.txt', '205_763.txt', '51_399.txt', '256_815.txt', '41_351.txt', '239_798.txt', '15_186.txt', '107_664.txt', '286_845.txt', '220_778.txt', '4_66.txt', '151_708.txt', '60_434.txt', '34_322.txt', '114_671.txt', '284_843.txt', '161_719.txt', '2_25.txt', '7_91.txt', '40_349.txt', '200_758.txt', '192_750.txt', '236_794.txt', '227_785.txt', '168_726.txt', '44_363.txt', '255_814.txt', '118_675.txt', '92_649.txt', '32_316.txt', '187_745.txt', '30_313.txt', '53_401.txt', '3_47.txt', '190_748.txt', '47_374.txt', '134_691.txt', '191_749.txt', '251_810.txt', '167_725.txt', '169_727.txt', '292_851.txt', '38_339.txt', '88_645.txt', '112_669.txt', '21_248.txt', '82_638.txt', '55_411.txt', '83_639.txt', '150_707.txt', '195_753.txt', '171_729.txt', '283_842.txt', '63_619.txt', '28_292.txt', '94_651.txt', '91_648.txt', '234_792.txt', '29_294.txt', '208_766.txt', '104_661.txt', '124_681.txt', '149_706.txt', '245_804.txt', '48_379.txt', '147_704.txt', '173_731.txt', '193_751.txt', '141_698.txt', '198_756.txt', '214_772.txt', '278_837.txt', '202_760.txt', '178_736.txt', '282_841.txt', '46_373.txt', '215_773.txt', '62_618.txt', '5_67.txt', '246_805.txt', '276_835.txt', '115_672.txt', '143_700.txt', '105_662.txt']\n"
     ]
    }
   ],
   "source": [
    "dir_list = os.listdir(path)\n",
    "print(dir_list)"
   ]
  },
  {
   "cell_type": "code",
   "execution_count": 44,
   "metadata": {},
   "outputs": [],
   "source": [
    "dataframe_np = []\n",
    "level = 0\n",
    "for dir_name in ['1_Ensino_Fundamental_I/','2_Ensino_Fundamental_II','3_Ensino_Medio','4_Ensino_Superior']:\n",
    "    path = base_path + dir_name\n",
    "    dir_list = os.listdir(path)\n",
    "    for filename in dir_list:\n",
    "        sample = []\n",
    "        file = open(path+'/'+filename,\"r\")\n",
    "        sample.append(file.read())\n",
    "        sample.append(level)\n",
    "        dataframe_np.append(sample)\n",
    "    level += 1\n"
   ]
  },
  {
   "cell_type": "code",
   "execution_count": 45,
   "metadata": {},
   "outputs": [],
   "source": [
    "df = pd.DataFrame(dataframe_np, columns=['text','level'])"
   ]
  },
  {
   "cell_type": "code",
   "execution_count": 46,
   "metadata": {},
   "outputs": [
    {
     "data": {
      "text/html": [
       "<div>\n",
       "<style scoped>\n",
       "    .dataframe tbody tr th:only-of-type {\n",
       "        vertical-align: middle;\n",
       "    }\n",
       "\n",
       "    .dataframe tbody tr th {\n",
       "        vertical-align: top;\n",
       "    }\n",
       "\n",
       "    .dataframe thead th {\n",
       "        text-align: right;\n",
       "    }\n",
       "</style>\n",
       "<table border=\"1\" class=\"dataframe\">\n",
       "  <thead>\n",
       "    <tr style=\"text-align: right;\">\n",
       "      <th></th>\n",
       "      <th>text</th>\n",
       "      <th>level</th>\n",
       "    </tr>\n",
       "  </thead>\n",
       "  <tbody>\n",
       "    <tr>\n",
       "      <th>0</th>\n",
       "      <td>E essas redes sociais são proibidas para meno...</td>\n",
       "      <td>0</td>\n",
       "    </tr>\n",
       "    <tr>\n",
       "      <th>1</th>\n",
       "      <td>Depois de dar um duro danado, acordando muito...</td>\n",
       "      <td>0</td>\n",
       "    </tr>\n",
       "    <tr>\n",
       "      <th>2</th>\n",
       "      <td>﻿Era uma vez um menino que passava seus dias e...</td>\n",
       "      <td>0</td>\n",
       "    </tr>\n",
       "    <tr>\n",
       "      <th>3</th>\n",
       "      <td>É dentro da cabine que comandante e copiloto ...</td>\n",
       "      <td>0</td>\n",
       "    </tr>\n",
       "    <tr>\n",
       "      <th>4</th>\n",
       "      <td>Os melhores perfumes estão nos menores frascos...</td>\n",
       "      <td>0</td>\n",
       "    </tr>\n",
       "    <tr>\n",
       "      <th>...</th>\n",
       "      <td>...</td>\n",
       "      <td>...</td>\n",
       "    </tr>\n",
       "    <tr>\n",
       "      <th>2071</th>\n",
       "      <td>Mecânica dos fluidos/Tabela: viscosidade de al...</td>\n",
       "      <td>3</td>\n",
       "    </tr>\n",
       "    <tr>\n",
       "      <th>2072</th>\n",
       "      <td>Uma vez que estabelecemos os valores dos x, p...</td>\n",
       "      <td>3</td>\n",
       "    </tr>\n",
       "    <tr>\n",
       "      <th>2073</th>\n",
       "      <td>Álgebra linear/Matrizes\\nO termo \"matriz\" pod...</td>\n",
       "      <td>3</td>\n",
       "    </tr>\n",
       "    <tr>\n",
       "      <th>2074</th>\n",
       "      <td>Consequentemente, o valor de formula_26 é dad...</td>\n",
       "      <td>3</td>\n",
       "    </tr>\n",
       "    <tr>\n",
       "      <th>2075</th>\n",
       "      <td>Logística/Localização/Localização em redes\\n\\n...</td>\n",
       "      <td>3</td>\n",
       "    </tr>\n",
       "  </tbody>\n",
       "</table>\n",
       "<p>2076 rows × 2 columns</p>\n",
       "</div>"
      ],
      "text/plain": [
       "                                                   text  level\n",
       "0      E essas redes sociais são proibidas para meno...      0\n",
       "1      Depois de dar um duro danado, acordando muito...      0\n",
       "2     ﻿Era uma vez um menino que passava seus dias e...      0\n",
       "3      É dentro da cabine que comandante e copiloto ...      0\n",
       "4     Os melhores perfumes estão nos menores frascos...      0\n",
       "...                                                 ...    ...\n",
       "2071  Mecânica dos fluidos/Tabela: viscosidade de al...      3\n",
       "2072   Uma vez que estabelecemos os valores dos x, p...      3\n",
       "2073   Álgebra linear/Matrizes\\nO termo \"matriz\" pod...      3\n",
       "2074   Consequentemente, o valor de formula_26 é dad...      3\n",
       "2075  Logística/Localização/Localização em redes\\n\\n...      3\n",
       "\n",
       "[2076 rows x 2 columns]"
      ]
     },
     "execution_count": 46,
     "metadata": {},
     "output_type": "execute_result"
    }
   ],
   "source": [
    "df"
   ]
  },
  {
   "cell_type": "code",
   "execution_count": 47,
   "metadata": {},
   "outputs": [
    {
     "data": {
      "text/html": [
       "<div>\n",
       "<style scoped>\n",
       "    .dataframe tbody tr th:only-of-type {\n",
       "        vertical-align: middle;\n",
       "    }\n",
       "\n",
       "    .dataframe tbody tr th {\n",
       "        vertical-align: top;\n",
       "    }\n",
       "\n",
       "    .dataframe thead th {\n",
       "        text-align: right;\n",
       "    }\n",
       "</style>\n",
       "<table border=\"1\" class=\"dataframe\">\n",
       "  <thead>\n",
       "    <tr style=\"text-align: right;\">\n",
       "      <th></th>\n",
       "      <th>level</th>\n",
       "    </tr>\n",
       "  </thead>\n",
       "  <tbody>\n",
       "    <tr>\n",
       "      <th>count</th>\n",
       "      <td>2076.000000</td>\n",
       "    </tr>\n",
       "    <tr>\n",
       "      <th>mean</th>\n",
       "      <td>1.955202</td>\n",
       "    </tr>\n",
       "    <tr>\n",
       "      <th>std</th>\n",
       "      <td>1.060764</td>\n",
       "    </tr>\n",
       "    <tr>\n",
       "      <th>min</th>\n",
       "      <td>0.000000</td>\n",
       "    </tr>\n",
       "    <tr>\n",
       "      <th>25%</th>\n",
       "      <td>1.000000</td>\n",
       "    </tr>\n",
       "    <tr>\n",
       "      <th>50%</th>\n",
       "      <td>2.000000</td>\n",
       "    </tr>\n",
       "    <tr>\n",
       "      <th>75%</th>\n",
       "      <td>3.000000</td>\n",
       "    </tr>\n",
       "    <tr>\n",
       "      <th>max</th>\n",
       "      <td>3.000000</td>\n",
       "    </tr>\n",
       "  </tbody>\n",
       "</table>\n",
       "</div>"
      ],
      "text/plain": [
       "             level\n",
       "count  2076.000000\n",
       "mean      1.955202\n",
       "std       1.060764\n",
       "min       0.000000\n",
       "25%       1.000000\n",
       "50%       2.000000\n",
       "75%       3.000000\n",
       "max       3.000000"
      ]
     },
     "execution_count": 47,
     "metadata": {},
     "output_type": "execute_result"
    }
   ],
   "source": [
    "df.describe()"
   ]
  },
  {
   "cell_type": "code",
   "execution_count": 51,
   "metadata": {},
   "outputs": [],
   "source": [
    "class_names = ['fundamental 1', 'fundamental 2', 'médio', 'superior']\n"
   ]
  },
  {
   "cell_type": "code",
   "execution_count": 53,
   "metadata": {},
   "outputs": [
    {
     "name": "stderr",
     "output_type": "stream",
     "text": [
      "/home/guilhermer/.local/lib/python3.8/site-packages/seaborn/_decorators.py:36: FutureWarning: Pass the following variable as a keyword arg: x. From version 0.12, the only valid positional argument will be `data`, and passing other arguments without an explicit keyword will result in an error or misinterpretation.\n",
      "  warnings.warn(\n"
     ]
    },
    {
     "data": {
      "image/png": "[encoded data removed]",
      "text/plain": [
       "<Figure size 432x288 with 1 Axes>"
      ]
     },
     "metadata": {
      "needs_background": "light"
     },
     "output_type": "display_data"
    }
   ],
   "source": [
    "ax = sns.countplot(df.level)\n",
    "plt.xlabel('number of samples')\n",
    "ax.set_xticklabels(class_names);\n"
   ]
  },
  {
   "cell_type": "code",
   "execution_count": 54,
   "metadata": {},
   "outputs": [],
   "source": [
    "df.to_csv('unbalanced.csv', index=None, header=True)"
   ]
  },
  {
   "cell_type": "code",
   "execution_count": null,
   "metadata": {},
   "outputs": [],
   "source": []
  }
 ],
 "metadata": {
  "kernelspec": {
   "display_name": "Python 3",
   "language": "python",
   "name": "python3"
  },
  "language_info": {
   "codemirror_mode": {
    "name": "ipython",
    "version": 3
   },
   "file_extension": ".py",
   "mimetype": "text/x-python",
   "name": "python",
   "nbconvert_exporter": "python",
   "pygments_lexer": "ipython3",
   "version": "3.8.10"
  }
 },
 "nbformat": 4,
 "nbformat_minor": 4
}
